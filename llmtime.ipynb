{
  "nbformat": 4,
  "nbformat_minor": 0,
  "metadata": {
    "colab": {
      "provenance": [],
      "gpuType": "T4"
    },
    "kernelspec": {
      "name": "python3",
      "display_name": "Python 3"
    },
    "language_info": {
      "name": "python"
    },
    "accelerator": "GPU",
    "widgets": {
      "application/vnd.jupyter.widget-state+json": {
        "49d59c3f5a1144e3a61a1e325d437e7f": {
          "model_module": "@jupyter-widgets/controls",
          "model_name": "HBoxModel",
          "model_module_version": "1.5.0",
          "state": {
            "_dom_classes": [],
            "_model_module": "@jupyter-widgets/controls",
            "_model_module_version": "1.5.0",
            "_model_name": "HBoxModel",
            "_view_count": null,
            "_view_module": "@jupyter-widgets/controls",
            "_view_module_version": "1.5.0",
            "_view_name": "HBoxView",
            "box_style": "",
            "children": [
              "IPY_MODEL_47066a3fce254315bfd925c7fff40f95",
              "IPY_MODEL_a4626acb28bc4b4c8f0f663122d77073",
              "IPY_MODEL_3158f830205c4e36a296dce7bf2b0d39"
            ],
            "layout": "IPY_MODEL_78bd07fce26640068eef8c72495ad92c"
          }
        },
        "47066a3fce254315bfd925c7fff40f95": {
          "model_module": "@jupyter-widgets/controls",
          "model_name": "HTMLModel",
          "model_module_version": "1.5.0",
          "state": {
            "_dom_classes": [],
            "_model_module": "@jupyter-widgets/controls",
            "_model_module_version": "1.5.0",
            "_model_name": "HTMLModel",
            "_view_count": null,
            "_view_module": "@jupyter-widgets/controls",
            "_view_module_version": "1.5.0",
            "_view_name": "HTMLView",
            "description": "",
            "description_tooltip": null,
            "layout": "IPY_MODEL_c55e19a5954d41f8a98aedfd2a013770",
            "placeholder": "​",
            "style": "IPY_MODEL_b4d1c90b580b47d8b15db4e82558adea",
            "value": "config.json: 100%"
          }
        },
        "a4626acb28bc4b4c8f0f663122d77073": {
          "model_module": "@jupyter-widgets/controls",
          "model_name": "FloatProgressModel",
          "model_module_version": "1.5.0",
          "state": {
            "_dom_classes": [],
            "_model_module": "@jupyter-widgets/controls",
            "_model_module_version": "1.5.0",
            "_model_name": "FloatProgressModel",
            "_view_count": null,
            "_view_module": "@jupyter-widgets/controls",
            "_view_module_version": "1.5.0",
            "_view_name": "ProgressView",
            "bar_style": "success",
            "description": "",
            "description_tooltip": null,
            "layout": "IPY_MODEL_279a300f51ce46e78e341d529df24c84",
            "max": 571,
            "min": 0,
            "orientation": "horizontal",
            "style": "IPY_MODEL_5c1606e0c8d745b5855e90493f637e03",
            "value": 571
          }
        },
        "3158f830205c4e36a296dce7bf2b0d39": {
          "model_module": "@jupyter-widgets/controls",
          "model_name": "HTMLModel",
          "model_module_version": "1.5.0",
          "state": {
            "_dom_classes": [],
            "_model_module": "@jupyter-widgets/controls",
            "_model_module_version": "1.5.0",
            "_model_name": "HTMLModel",
            "_view_count": null,
            "_view_module": "@jupyter-widgets/controls",
            "_view_module_version": "1.5.0",
            "_view_name": "HTMLView",
            "description": "",
            "description_tooltip": null,
            "layout": "IPY_MODEL_ea7c099a0ab546b7af83eb7709a2f8d8",
            "placeholder": "​",
            "style": "IPY_MODEL_3134a727af2b4e349f3bcd1109eb20ad",
            "value": " 571/571 [00:00&lt;00:00, 20.9kB/s]"
          }
        },
        "78bd07fce26640068eef8c72495ad92c": {
          "model_module": "@jupyter-widgets/base",
          "model_name": "LayoutModel",
          "model_module_version": "1.2.0",
          "state": {
            "_model_module": "@jupyter-widgets/base",
            "_model_module_version": "1.2.0",
            "_model_name": "LayoutModel",
            "_view_count": null,
            "_view_module": "@jupyter-widgets/base",
            "_view_module_version": "1.2.0",
            "_view_name": "LayoutView",
            "align_content": null,
            "align_items": null,
            "align_self": null,
            "border": null,
            "bottom": null,
            "display": null,
            "flex": null,
            "flex_flow": null,
            "grid_area": null,
            "grid_auto_columns": null,
            "grid_auto_flow": null,
            "grid_auto_rows": null,
            "grid_column": null,
            "grid_gap": null,
            "grid_row": null,
            "grid_template_areas": null,
            "grid_template_columns": null,
            "grid_template_rows": null,
            "height": null,
            "justify_content": null,
            "justify_items": null,
            "left": null,
            "margin": null,
            "max_height": null,
            "max_width": null,
            "min_height": null,
            "min_width": null,
            "object_fit": null,
            "object_position": null,
            "order": null,
            "overflow": null,
            "overflow_x": null,
            "overflow_y": null,
            "padding": null,
            "right": null,
            "top": null,
            "visibility": null,
            "width": null
          }
        },
        "c55e19a5954d41f8a98aedfd2a013770": {
          "model_module": "@jupyter-widgets/base",
          "model_name": "LayoutModel",
          "model_module_version": "1.2.0",
          "state": {
            "_model_module": "@jupyter-widgets/base",
            "_model_module_version": "1.2.0",
            "_model_name": "LayoutModel",
            "_view_count": null,
            "_view_module": "@jupyter-widgets/base",
            "_view_module_version": "1.2.0",
            "_view_name": "LayoutView",
            "align_content": null,
            "align_items": null,
            "align_self": null,
            "border": null,
            "bottom": null,
            "display": null,
            "flex": null,
            "flex_flow": null,
            "grid_area": null,
            "grid_auto_columns": null,
            "grid_auto_flow": null,
            "grid_auto_rows": null,
            "grid_column": null,
            "grid_gap": null,
            "grid_row": null,
            "grid_template_areas": null,
            "grid_template_columns": null,
            "grid_template_rows": null,
            "height": null,
            "justify_content": null,
            "justify_items": null,
            "left": null,
            "margin": null,
            "max_height": null,
            "max_width": null,
            "min_height": null,
            "min_width": null,
            "object_fit": null,
            "object_position": null,
            "order": null,
            "overflow": null,
            "overflow_x": null,
            "overflow_y": null,
            "padding": null,
            "right": null,
            "top": null,
            "visibility": null,
            "width": null
          }
        },
        "b4d1c90b580b47d8b15db4e82558adea": {
          "model_module": "@jupyter-widgets/controls",
          "model_name": "DescriptionStyleModel",
          "model_module_version": "1.5.0",
          "state": {
            "_model_module": "@jupyter-widgets/controls",
            "_model_module_version": "1.5.0",
            "_model_name": "DescriptionStyleModel",
            "_view_count": null,
            "_view_module": "@jupyter-widgets/base",
            "_view_module_version": "1.2.0",
            "_view_name": "StyleView",
            "description_width": ""
          }
        },
        "279a300f51ce46e78e341d529df24c84": {
          "model_module": "@jupyter-widgets/base",
          "model_name": "LayoutModel",
          "model_module_version": "1.2.0",
          "state": {
            "_model_module": "@jupyter-widgets/base",
            "_model_module_version": "1.2.0",
            "_model_name": "LayoutModel",
            "_view_count": null,
            "_view_module": "@jupyter-widgets/base",
            "_view_module_version": "1.2.0",
            "_view_name": "LayoutView",
            "align_content": null,
            "align_items": null,
            "align_self": null,
            "border": null,
            "bottom": null,
            "display": null,
            "flex": null,
            "flex_flow": null,
            "grid_area": null,
            "grid_auto_columns": null,
            "grid_auto_flow": null,
            "grid_auto_rows": null,
            "grid_column": null,
            "grid_gap": null,
            "grid_row": null,
            "grid_template_areas": null,
            "grid_template_columns": null,
            "grid_template_rows": null,
            "height": null,
            "justify_content": null,
            "justify_items": null,
            "left": null,
            "margin": null,
            "max_height": null,
            "max_width": null,
            "min_height": null,
            "min_width": null,
            "object_fit": null,
            "object_position": null,
            "order": null,
            "overflow": null,
            "overflow_x": null,
            "overflow_y": null,
            "padding": null,
            "right": null,
            "top": null,
            "visibility": null,
            "width": null
          }
        },
        "5c1606e0c8d745b5855e90493f637e03": {
          "model_module": "@jupyter-widgets/controls",
          "model_name": "ProgressStyleModel",
          "model_module_version": "1.5.0",
          "state": {
            "_model_module": "@jupyter-widgets/controls",
            "_model_module_version": "1.5.0",
            "_model_name": "ProgressStyleModel",
            "_view_count": null,
            "_view_module": "@jupyter-widgets/base",
            "_view_module_version": "1.2.0",
            "_view_name": "StyleView",
            "bar_color": null,
            "description_width": ""
          }
        },
        "ea7c099a0ab546b7af83eb7709a2f8d8": {
          "model_module": "@jupyter-widgets/base",
          "model_name": "LayoutModel",
          "model_module_version": "1.2.0",
          "state": {
            "_model_module": "@jupyter-widgets/base",
            "_model_module_version": "1.2.0",
            "_model_name": "LayoutModel",
            "_view_count": null,
            "_view_module": "@jupyter-widgets/base",
            "_view_module_version": "1.2.0",
            "_view_name": "LayoutView",
            "align_content": null,
            "align_items": null,
            "align_self": null,
            "border": null,
            "bottom": null,
            "display": null,
            "flex": null,
            "flex_flow": null,
            "grid_area": null,
            "grid_auto_columns": null,
            "grid_auto_flow": null,
            "grid_auto_rows": null,
            "grid_column": null,
            "grid_gap": null,
            "grid_row": null,
            "grid_template_areas": null,
            "grid_template_columns": null,
            "grid_template_rows": null,
            "height": null,
            "justify_content": null,
            "justify_items": null,
            "left": null,
            "margin": null,
            "max_height": null,
            "max_width": null,
            "min_height": null,
            "min_width": null,
            "object_fit": null,
            "object_position": null,
            "order": null,
            "overflow": null,
            "overflow_x": null,
            "overflow_y": null,
            "padding": null,
            "right": null,
            "top": null,
            "visibility": null,
            "width": null
          }
        },
        "3134a727af2b4e349f3bcd1109eb20ad": {
          "model_module": "@jupyter-widgets/controls",
          "model_name": "DescriptionStyleModel",
          "model_module_version": "1.5.0",
          "state": {
            "_model_module": "@jupyter-widgets/controls",
            "_model_module_version": "1.5.0",
            "_model_name": "DescriptionStyleModel",
            "_view_count": null,
            "_view_module": "@jupyter-widgets/base",
            "_view_module_version": "1.2.0",
            "_view_name": "StyleView",
            "description_width": ""
          }
        },
        "15a79b4902d840328d43960746f43b2f": {
          "model_module": "@jupyter-widgets/controls",
          "model_name": "HBoxModel",
          "model_module_version": "1.5.0",
          "state": {
            "_dom_classes": [],
            "_model_module": "@jupyter-widgets/controls",
            "_model_module_version": "1.5.0",
            "_model_name": "HBoxModel",
            "_view_count": null,
            "_view_module": "@jupyter-widgets/controls",
            "_view_module_version": "1.5.0",
            "_view_name": "HBoxView",
            "box_style": "",
            "children": [
              "IPY_MODEL_a278e3e4a0d24036a19d32f9a7138ef2",
              "IPY_MODEL_47ae6278aff2448696e199f9d07a828f",
              "IPY_MODEL_4b5f3731e8d84215aa388210a25ceb91"
            ],
            "layout": "IPY_MODEL_d3a0912be7934ea38c04f070799da5f4"
          }
        },
        "a278e3e4a0d24036a19d32f9a7138ef2": {
          "model_module": "@jupyter-widgets/controls",
          "model_name": "HTMLModel",
          "model_module_version": "1.5.0",
          "state": {
            "_dom_classes": [],
            "_model_module": "@jupyter-widgets/controls",
            "_model_module_version": "1.5.0",
            "_model_name": "HTMLModel",
            "_view_count": null,
            "_view_module": "@jupyter-widgets/controls",
            "_view_module_version": "1.5.0",
            "_view_name": "HTMLView",
            "description": "",
            "description_tooltip": null,
            "layout": "IPY_MODEL_33a359be00e746f98ff4525d3eb5bd16",
            "placeholder": "​",
            "style": "IPY_MODEL_dd702497dcdb412cbba66cfb24d994f0",
            "value": "model.safetensors.index.json: 100%"
          }
        },
        "47ae6278aff2448696e199f9d07a828f": {
          "model_module": "@jupyter-widgets/controls",
          "model_name": "FloatProgressModel",
          "model_module_version": "1.5.0",
          "state": {
            "_dom_classes": [],
            "_model_module": "@jupyter-widgets/controls",
            "_model_module_version": "1.5.0",
            "_model_name": "FloatProgressModel",
            "_view_count": null,
            "_view_module": "@jupyter-widgets/controls",
            "_view_module_version": "1.5.0",
            "_view_name": "ProgressView",
            "bar_style": "success",
            "description": "",
            "description_tooltip": null,
            "layout": "IPY_MODEL_620fce8d06bc4d88ac3ae1440139909d",
            "max": 25125,
            "min": 0,
            "orientation": "horizontal",
            "style": "IPY_MODEL_2ebf3a3a40664137bff06514f7860622",
            "value": 25125
          }
        },
        "4b5f3731e8d84215aa388210a25ceb91": {
          "model_module": "@jupyter-widgets/controls",
          "model_name": "HTMLModel",
          "model_module_version": "1.5.0",
          "state": {
            "_dom_classes": [],
            "_model_module": "@jupyter-widgets/controls",
            "_model_module_version": "1.5.0",
            "_model_name": "HTMLModel",
            "_view_count": null,
            "_view_module": "@jupyter-widgets/controls",
            "_view_module_version": "1.5.0",
            "_view_name": "HTMLView",
            "description": "",
            "description_tooltip": null,
            "layout": "IPY_MODEL_a83fbf0074bb449db79654a33215ac51",
            "placeholder": "​",
            "style": "IPY_MODEL_b5de764d9bdb48d2aeeec822fb5d1634",
            "value": " 25.1k/25.1k [00:00&lt;00:00, 1.71MB/s]"
          }
        },
        "d3a0912be7934ea38c04f070799da5f4": {
          "model_module": "@jupyter-widgets/base",
          "model_name": "LayoutModel",
          "model_module_version": "1.2.0",
          "state": {
            "_model_module": "@jupyter-widgets/base",
            "_model_module_version": "1.2.0",
            "_model_name": "LayoutModel",
            "_view_count": null,
            "_view_module": "@jupyter-widgets/base",
            "_view_module_version": "1.2.0",
            "_view_name": "LayoutView",
            "align_content": null,
            "align_items": null,
            "align_self": null,
            "border": null,
            "bottom": null,
            "display": null,
            "flex": null,
            "flex_flow": null,
            "grid_area": null,
            "grid_auto_columns": null,
            "grid_auto_flow": null,
            "grid_auto_rows": null,
            "grid_column": null,
            "grid_gap": null,
            "grid_row": null,
            "grid_template_areas": null,
            "grid_template_columns": null,
            "grid_template_rows": null,
            "height": null,
            "justify_content": null,
            "justify_items": null,
            "left": null,
            "margin": null,
            "max_height": null,
            "max_width": null,
            "min_height": null,
            "min_width": null,
            "object_fit": null,
            "object_position": null,
            "order": null,
            "overflow": null,
            "overflow_x": null,
            "overflow_y": null,
            "padding": null,
            "right": null,
            "top": null,
            "visibility": null,
            "width": null
          }
        },
        "33a359be00e746f98ff4525d3eb5bd16": {
          "model_module": "@jupyter-widgets/base",
          "model_name": "LayoutModel",
          "model_module_version": "1.2.0",
          "state": {
            "_model_module": "@jupyter-widgets/base",
            "_model_module_version": "1.2.0",
            "_model_name": "LayoutModel",
            "_view_count": null,
            "_view_module": "@jupyter-widgets/base",
            "_view_module_version": "1.2.0",
            "_view_name": "LayoutView",
            "align_content": null,
            "align_items": null,
            "align_self": null,
            "border": null,
            "bottom": null,
            "display": null,
            "flex": null,
            "flex_flow": null,
            "grid_area": null,
            "grid_auto_columns": null,
            "grid_auto_flow": null,
            "grid_auto_rows": null,
            "grid_column": null,
            "grid_gap": null,
            "grid_row": null,
            "grid_template_areas": null,
            "grid_template_columns": null,
            "grid_template_rows": null,
            "height": null,
            "justify_content": null,
            "justify_items": null,
            "left": null,
            "margin": null,
            "max_height": null,
            "max_width": null,
            "min_height": null,
            "min_width": null,
            "object_fit": null,
            "object_position": null,
            "order": null,
            "overflow": null,
            "overflow_x": null,
            "overflow_y": null,
            "padding": null,
            "right": null,
            "top": null,
            "visibility": null,
            "width": null
          }
        },
        "dd702497dcdb412cbba66cfb24d994f0": {
          "model_module": "@jupyter-widgets/controls",
          "model_name": "DescriptionStyleModel",
          "model_module_version": "1.5.0",
          "state": {
            "_model_module": "@jupyter-widgets/controls",
            "_model_module_version": "1.5.0",
            "_model_name": "DescriptionStyleModel",
            "_view_count": null,
            "_view_module": "@jupyter-widgets/base",
            "_view_module_version": "1.2.0",
            "_view_name": "StyleView",
            "description_width": ""
          }
        },
        "620fce8d06bc4d88ac3ae1440139909d": {
          "model_module": "@jupyter-widgets/base",
          "model_name": "LayoutModel",
          "model_module_version": "1.2.0",
          "state": {
            "_model_module": "@jupyter-widgets/base",
            "_model_module_version": "1.2.0",
            "_model_name": "LayoutModel",
            "_view_count": null,
            "_view_module": "@jupyter-widgets/base",
            "_view_module_version": "1.2.0",
            "_view_name": "LayoutView",
            "align_content": null,
            "align_items": null,
            "align_self": null,
            "border": null,
            "bottom": null,
            "display": null,
            "flex": null,
            "flex_flow": null,
            "grid_area": null,
            "grid_auto_columns": null,
            "grid_auto_flow": null,
            "grid_auto_rows": null,
            "grid_column": null,
            "grid_gap": null,
            "grid_row": null,
            "grid_template_areas": null,
            "grid_template_columns": null,
            "grid_template_rows": null,
            "height": null,
            "justify_content": null,
            "justify_items": null,
            "left": null,
            "margin": null,
            "max_height": null,
            "max_width": null,
            "min_height": null,
            "min_width": null,
            "object_fit": null,
            "object_position": null,
            "order": null,
            "overflow": null,
            "overflow_x": null,
            "overflow_y": null,
            "padding": null,
            "right": null,
            "top": null,
            "visibility": null,
            "width": null
          }
        },
        "2ebf3a3a40664137bff06514f7860622": {
          "model_module": "@jupyter-widgets/controls",
          "model_name": "ProgressStyleModel",
          "model_module_version": "1.5.0",
          "state": {
            "_model_module": "@jupyter-widgets/controls",
            "_model_module_version": "1.5.0",
            "_model_name": "ProgressStyleModel",
            "_view_count": null,
            "_view_module": "@jupyter-widgets/base",
            "_view_module_version": "1.2.0",
            "_view_name": "StyleView",
            "bar_color": null,
            "description_width": ""
          }
        },
        "a83fbf0074bb449db79654a33215ac51": {
          "model_module": "@jupyter-widgets/base",
          "model_name": "LayoutModel",
          "model_module_version": "1.2.0",
          "state": {
            "_model_module": "@jupyter-widgets/base",
            "_model_module_version": "1.2.0",
            "_model_name": "LayoutModel",
            "_view_count": null,
            "_view_module": "@jupyter-widgets/base",
            "_view_module_version": "1.2.0",
            "_view_name": "LayoutView",
            "align_content": null,
            "align_items": null,
            "align_self": null,
            "border": null,
            "bottom": null,
            "display": null,
            "flex": null,
            "flex_flow": null,
            "grid_area": null,
            "grid_auto_columns": null,
            "grid_auto_flow": null,
            "grid_auto_rows": null,
            "grid_column": null,
            "grid_gap": null,
            "grid_row": null,
            "grid_template_areas": null,
            "grid_template_columns": null,
            "grid_template_rows": null,
            "height": null,
            "justify_content": null,
            "justify_items": null,
            "left": null,
            "margin": null,
            "max_height": null,
            "max_width": null,
            "min_height": null,
            "min_width": null,
            "object_fit": null,
            "object_position": null,
            "order": null,
            "overflow": null,
            "overflow_x": null,
            "overflow_y": null,
            "padding": null,
            "right": null,
            "top": null,
            "visibility": null,
            "width": null
          }
        },
        "b5de764d9bdb48d2aeeec822fb5d1634": {
          "model_module": "@jupyter-widgets/controls",
          "model_name": "DescriptionStyleModel",
          "model_module_version": "1.5.0",
          "state": {
            "_model_module": "@jupyter-widgets/controls",
            "_model_module_version": "1.5.0",
            "_model_name": "DescriptionStyleModel",
            "_view_count": null,
            "_view_module": "@jupyter-widgets/base",
            "_view_module_version": "1.2.0",
            "_view_name": "StyleView",
            "description_width": ""
          }
        },
        "ec6f3b325fdc4b9386e9aafccb62d0df": {
          "model_module": "@jupyter-widgets/controls",
          "model_name": "HBoxModel",
          "model_module_version": "1.5.0",
          "state": {
            "_dom_classes": [],
            "_model_module": "@jupyter-widgets/controls",
            "_model_module_version": "1.5.0",
            "_model_name": "HBoxModel",
            "_view_count": null,
            "_view_module": "@jupyter-widgets/controls",
            "_view_module_version": "1.5.0",
            "_view_name": "HBoxView",
            "box_style": "",
            "children": [
              "IPY_MODEL_ec67cf28a89843dcaf602af312721743",
              "IPY_MODEL_90ff22a34d0643228ac2c057772d9098",
              "IPY_MODEL_fa214462bb704de09bb243433157c9c9"
            ],
            "layout": "IPY_MODEL_6712088ca2eb4a1eb45d8a207433ffd8"
          }
        },
        "ec67cf28a89843dcaf602af312721743": {
          "model_module": "@jupyter-widgets/controls",
          "model_name": "HTMLModel",
          "model_module_version": "1.5.0",
          "state": {
            "_dom_classes": [],
            "_model_module": "@jupyter-widgets/controls",
            "_model_module_version": "1.5.0",
            "_model_name": "HTMLModel",
            "_view_count": null,
            "_view_module": "@jupyter-widgets/controls",
            "_view_module_version": "1.5.0",
            "_view_name": "HTMLView",
            "description": "",
            "description_tooltip": null,
            "layout": "IPY_MODEL_a29cddcac80e4fde9bef340e7671152a",
            "placeholder": "​",
            "style": "IPY_MODEL_f7b644662ec0416ba0a1289fa996afa4",
            "value": "Downloading shards:   0%"
          }
        },
        "90ff22a34d0643228ac2c057772d9098": {
          "model_module": "@jupyter-widgets/controls",
          "model_name": "FloatProgressModel",
          "model_module_version": "1.5.0",
          "state": {
            "_dom_classes": [],
            "_model_module": "@jupyter-widgets/controls",
            "_model_module_version": "1.5.0",
            "_model_name": "FloatProgressModel",
            "_view_count": null,
            "_view_module": "@jupyter-widgets/controls",
            "_view_module_version": "1.5.0",
            "_view_name": "ProgressView",
            "bar_style": "",
            "description": "",
            "description_tooltip": null,
            "layout": "IPY_MODEL_f1cd43a5131647bdb5889a02d86a75dd",
            "max": 2,
            "min": 0,
            "orientation": "horizontal",
            "style": "IPY_MODEL_a838c23e65d54f149c10a07bb72e4d33",
            "value": 0
          }
        },
        "fa214462bb704de09bb243433157c9c9": {
          "model_module": "@jupyter-widgets/controls",
          "model_name": "HTMLModel",
          "model_module_version": "1.5.0",
          "state": {
            "_dom_classes": [],
            "_model_module": "@jupyter-widgets/controls",
            "_model_module_version": "1.5.0",
            "_model_name": "HTMLModel",
            "_view_count": null,
            "_view_module": "@jupyter-widgets/controls",
            "_view_module_version": "1.5.0",
            "_view_name": "HTMLView",
            "description": "",
            "description_tooltip": null,
            "layout": "IPY_MODEL_1f8fd4ce593c45d68fc327623958dcc8",
            "placeholder": "​",
            "style": "IPY_MODEL_ebaf9c9cefeb4599b5b01aca7128508f",
            "value": " 0/2 [00:00&lt;?, ?it/s]"
          }
        },
        "6712088ca2eb4a1eb45d8a207433ffd8": {
          "model_module": "@jupyter-widgets/base",
          "model_name": "LayoutModel",
          "model_module_version": "1.2.0",
          "state": {
            "_model_module": "@jupyter-widgets/base",
            "_model_module_version": "1.2.0",
            "_model_name": "LayoutModel",
            "_view_count": null,
            "_view_module": "@jupyter-widgets/base",
            "_view_module_version": "1.2.0",
            "_view_name": "LayoutView",
            "align_content": null,
            "align_items": null,
            "align_self": null,
            "border": null,
            "bottom": null,
            "display": null,
            "flex": null,
            "flex_flow": null,
            "grid_area": null,
            "grid_auto_columns": null,
            "grid_auto_flow": null,
            "grid_auto_rows": null,
            "grid_column": null,
            "grid_gap": null,
            "grid_row": null,
            "grid_template_areas": null,
            "grid_template_columns": null,
            "grid_template_rows": null,
            "height": null,
            "justify_content": null,
            "justify_items": null,
            "left": null,
            "margin": null,
            "max_height": null,
            "max_width": null,
            "min_height": null,
            "min_width": null,
            "object_fit": null,
            "object_position": null,
            "order": null,
            "overflow": null,
            "overflow_x": null,
            "overflow_y": null,
            "padding": null,
            "right": null,
            "top": null,
            "visibility": null,
            "width": null
          }
        },
        "a29cddcac80e4fde9bef340e7671152a": {
          "model_module": "@jupyter-widgets/base",
          "model_name": "LayoutModel",
          "model_module_version": "1.2.0",
          "state": {
            "_model_module": "@jupyter-widgets/base",
            "_model_module_version": "1.2.0",
            "_model_name": "LayoutModel",
            "_view_count": null,
            "_view_module": "@jupyter-widgets/base",
            "_view_module_version": "1.2.0",
            "_view_name": "LayoutView",
            "align_content": null,
            "align_items": null,
            "align_self": null,
            "border": null,
            "bottom": null,
            "display": null,
            "flex": null,
            "flex_flow": null,
            "grid_area": null,
            "grid_auto_columns": null,
            "grid_auto_flow": null,
            "grid_auto_rows": null,
            "grid_column": null,
            "grid_gap": null,
            "grid_row": null,
            "grid_template_areas": null,
            "grid_template_columns": null,
            "grid_template_rows": null,
            "height": null,
            "justify_content": null,
            "justify_items": null,
            "left": null,
            "margin": null,
            "max_height": null,
            "max_width": null,
            "min_height": null,
            "min_width": null,
            "object_fit": null,
            "object_position": null,
            "order": null,
            "overflow": null,
            "overflow_x": null,
            "overflow_y": null,
            "padding": null,
            "right": null,
            "top": null,
            "visibility": null,
            "width": null
          }
        },
        "f7b644662ec0416ba0a1289fa996afa4": {
          "model_module": "@jupyter-widgets/controls",
          "model_name": "DescriptionStyleModel",
          "model_module_version": "1.5.0",
          "state": {
            "_model_module": "@jupyter-widgets/controls",
            "_model_module_version": "1.5.0",
            "_model_name": "DescriptionStyleModel",
            "_view_count": null,
            "_view_module": "@jupyter-widgets/base",
            "_view_module_version": "1.2.0",
            "_view_name": "StyleView",
            "description_width": ""
          }
        },
        "f1cd43a5131647bdb5889a02d86a75dd": {
          "model_module": "@jupyter-widgets/base",
          "model_name": "LayoutModel",
          "model_module_version": "1.2.0",
          "state": {
            "_model_module": "@jupyter-widgets/base",
            "_model_module_version": "1.2.0",
            "_model_name": "LayoutModel",
            "_view_count": null,
            "_view_module": "@jupyter-widgets/base",
            "_view_module_version": "1.2.0",
            "_view_name": "LayoutView",
            "align_content": null,
            "align_items": null,
            "align_self": null,
            "border": null,
            "bottom": null,
            "display": null,
            "flex": null,
            "flex_flow": null,
            "grid_area": null,
            "grid_auto_columns": null,
            "grid_auto_flow": null,
            "grid_auto_rows": null,
            "grid_column": null,
            "grid_gap": null,
            "grid_row": null,
            "grid_template_areas": null,
            "grid_template_columns": null,
            "grid_template_rows": null,
            "height": null,
            "justify_content": null,
            "justify_items": null,
            "left": null,
            "margin": null,
            "max_height": null,
            "max_width": null,
            "min_height": null,
            "min_width": null,
            "object_fit": null,
            "object_position": null,
            "order": null,
            "overflow": null,
            "overflow_x": null,
            "overflow_y": null,
            "padding": null,
            "right": null,
            "top": null,
            "visibility": null,
            "width": null
          }
        },
        "a838c23e65d54f149c10a07bb72e4d33": {
          "model_module": "@jupyter-widgets/controls",
          "model_name": "ProgressStyleModel",
          "model_module_version": "1.5.0",
          "state": {
            "_model_module": "@jupyter-widgets/controls",
            "_model_module_version": "1.5.0",
            "_model_name": "ProgressStyleModel",
            "_view_count": null,
            "_view_module": "@jupyter-widgets/base",
            "_view_module_version": "1.2.0",
            "_view_name": "StyleView",
            "bar_color": null,
            "description_width": ""
          }
        },
        "1f8fd4ce593c45d68fc327623958dcc8": {
          "model_module": "@jupyter-widgets/base",
          "model_name": "LayoutModel",
          "model_module_version": "1.2.0",
          "state": {
            "_model_module": "@jupyter-widgets/base",
            "_model_module_version": "1.2.0",
            "_model_name": "LayoutModel",
            "_view_count": null,
            "_view_module": "@jupyter-widgets/base",
            "_view_module_version": "1.2.0",
            "_view_name": "LayoutView",
            "align_content": null,
            "align_items": null,
            "align_self": null,
            "border": null,
            "bottom": null,
            "display": null,
            "flex": null,
            "flex_flow": null,
            "grid_area": null,
            "grid_auto_columns": null,
            "grid_auto_flow": null,
            "grid_auto_rows": null,
            "grid_column": null,
            "grid_gap": null,
            "grid_row": null,
            "grid_template_areas": null,
            "grid_template_columns": null,
            "grid_template_rows": null,
            "height": null,
            "justify_content": null,
            "justify_items": null,
            "left": null,
            "margin": null,
            "max_height": null,
            "max_width": null,
            "min_height": null,
            "min_width": null,
            "object_fit": null,
            "object_position": null,
            "order": null,
            "overflow": null,
            "overflow_x": null,
            "overflow_y": null,
            "padding": null,
            "right": null,
            "top": null,
            "visibility": null,
            "width": null
          }
        },
        "ebaf9c9cefeb4599b5b01aca7128508f": {
          "model_module": "@jupyter-widgets/controls",
          "model_name": "DescriptionStyleModel",
          "model_module_version": "1.5.0",
          "state": {
            "_model_module": "@jupyter-widgets/controls",
            "_model_module_version": "1.5.0",
            "_model_name": "DescriptionStyleModel",
            "_view_count": null,
            "_view_module": "@jupyter-widgets/base",
            "_view_module_version": "1.2.0",
            "_view_name": "StyleView",
            "description_width": ""
          }
        },
        "251eb7d362144c71bf96ef4dd7b4adce": {
          "model_module": "@jupyter-widgets/controls",
          "model_name": "HBoxModel",
          "model_module_version": "1.5.0",
          "state": {
            "_dom_classes": [],
            "_model_module": "@jupyter-widgets/controls",
            "_model_module_version": "1.5.0",
            "_model_name": "HBoxModel",
            "_view_count": null,
            "_view_module": "@jupyter-widgets/controls",
            "_view_module_version": "1.5.0",
            "_view_name": "HBoxView",
            "box_style": "",
            "children": [
              "IPY_MODEL_2f2c231f1e8c4056ab5a2bbf8f970cda",
              "IPY_MODEL_86dc6ab279764f5ba604b4141f4e303f",
              "IPY_MODEL_99c3747e457349bcb2c94538557c37cf"
            ],
            "layout": "IPY_MODEL_cf5def907f7b49ada2d76306c7341c34"
          }
        },
        "2f2c231f1e8c4056ab5a2bbf8f970cda": {
          "model_module": "@jupyter-widgets/controls",
          "model_name": "HTMLModel",
          "model_module_version": "1.5.0",
          "state": {
            "_dom_classes": [],
            "_model_module": "@jupyter-widgets/controls",
            "_model_module_version": "1.5.0",
            "_model_name": "HTMLModel",
            "_view_count": null,
            "_view_module": "@jupyter-widgets/controls",
            "_view_module_version": "1.5.0",
            "_view_name": "HTMLView",
            "description": "",
            "description_tooltip": null,
            "layout": "IPY_MODEL_450521d89e2b45e9aeea134060e118c8",
            "placeholder": "​",
            "style": "IPY_MODEL_41692c4507f64bac8aba0df7c8058371",
            "value": "model-00001-of-00002.safetensors:  86%"
          }
        },
        "86dc6ab279764f5ba604b4141f4e303f": {
          "model_module": "@jupyter-widgets/controls",
          "model_name": "FloatProgressModel",
          "model_module_version": "1.5.0",
          "state": {
            "_dom_classes": [],
            "_model_module": "@jupyter-widgets/controls",
            "_model_module_version": "1.5.0",
            "_model_name": "FloatProgressModel",
            "_view_count": null,
            "_view_module": "@jupyter-widgets/controls",
            "_view_module_version": "1.5.0",
            "_view_name": "ProgressView",
            "bar_style": "",
            "description": "",
            "description_tooltip": null,
            "layout": "IPY_MODEL_59c28d67cc744f23a1f7d8d72c51fac5",
            "max": 9942981696,
            "min": 0,
            "orientation": "horizontal",
            "style": "IPY_MODEL_712c8f209aab4772b4bd81bc1fcb8089",
            "value": 8566865920
          }
        },
        "99c3747e457349bcb2c94538557c37cf": {
          "model_module": "@jupyter-widgets/controls",
          "model_name": "HTMLModel",
          "model_module_version": "1.5.0",
          "state": {
            "_dom_classes": [],
            "_model_module": "@jupyter-widgets/controls",
            "_model_module_version": "1.5.0",
            "_model_name": "HTMLModel",
            "_view_count": null,
            "_view_module": "@jupyter-widgets/controls",
            "_view_module_version": "1.5.0",
            "_view_name": "HTMLView",
            "description": "",
            "description_tooltip": null,
            "layout": "IPY_MODEL_6c469dc43a87465ca2475582119dbc92",
            "placeholder": "​",
            "style": "IPY_MODEL_c2d3b02a432b4dbdbe6c65ce8befdc0b",
            "value": " 8.57G/9.94G [01:04&lt;00:12, 112MB/s]"
          }
        },
        "cf5def907f7b49ada2d76306c7341c34": {
          "model_module": "@jupyter-widgets/base",
          "model_name": "LayoutModel",
          "model_module_version": "1.2.0",
          "state": {
            "_model_module": "@jupyter-widgets/base",
            "_model_module_version": "1.2.0",
            "_model_name": "LayoutModel",
            "_view_count": null,
            "_view_module": "@jupyter-widgets/base",
            "_view_module_version": "1.2.0",
            "_view_name": "LayoutView",
            "align_content": null,
            "align_items": null,
            "align_self": null,
            "border": null,
            "bottom": null,
            "display": null,
            "flex": null,
            "flex_flow": null,
            "grid_area": null,
            "grid_auto_columns": null,
            "grid_auto_flow": null,
            "grid_auto_rows": null,
            "grid_column": null,
            "grid_gap": null,
            "grid_row": null,
            "grid_template_areas": null,
            "grid_template_columns": null,
            "grid_template_rows": null,
            "height": null,
            "justify_content": null,
            "justify_items": null,
            "left": null,
            "margin": null,
            "max_height": null,
            "max_width": null,
            "min_height": null,
            "min_width": null,
            "object_fit": null,
            "object_position": null,
            "order": null,
            "overflow": null,
            "overflow_x": null,
            "overflow_y": null,
            "padding": null,
            "right": null,
            "top": null,
            "visibility": null,
            "width": null
          }
        },
        "450521d89e2b45e9aeea134060e118c8": {
          "model_module": "@jupyter-widgets/base",
          "model_name": "LayoutModel",
          "model_module_version": "1.2.0",
          "state": {
            "_model_module": "@jupyter-widgets/base",
            "_model_module_version": "1.2.0",
            "_model_name": "LayoutModel",
            "_view_count": null,
            "_view_module": "@jupyter-widgets/base",
            "_view_module_version": "1.2.0",
            "_view_name": "LayoutView",
            "align_content": null,
            "align_items": null,
            "align_self": null,
            "border": null,
            "bottom": null,
            "display": null,
            "flex": null,
            "flex_flow": null,
            "grid_area": null,
            "grid_auto_columns": null,
            "grid_auto_flow": null,
            "grid_auto_rows": null,
            "grid_column": null,
            "grid_gap": null,
            "grid_row": null,
            "grid_template_areas": null,
            "grid_template_columns": null,
            "grid_template_rows": null,
            "height": null,
            "justify_content": null,
            "justify_items": null,
            "left": null,
            "margin": null,
            "max_height": null,
            "max_width": null,
            "min_height": null,
            "min_width": null,
            "object_fit": null,
            "object_position": null,
            "order": null,
            "overflow": null,
            "overflow_x": null,
            "overflow_y": null,
            "padding": null,
            "right": null,
            "top": null,
            "visibility": null,
            "width": null
          }
        },
        "41692c4507f64bac8aba0df7c8058371": {
          "model_module": "@jupyter-widgets/controls",
          "model_name": "DescriptionStyleModel",
          "model_module_version": "1.5.0",
          "state": {
            "_model_module": "@jupyter-widgets/controls",
            "_model_module_version": "1.5.0",
            "_model_name": "DescriptionStyleModel",
            "_view_count": null,
            "_view_module": "@jupyter-widgets/base",
            "_view_module_version": "1.2.0",
            "_view_name": "StyleView",
            "description_width": ""
          }
        },
        "59c28d67cc744f23a1f7d8d72c51fac5": {
          "model_module": "@jupyter-widgets/base",
          "model_name": "LayoutModel",
          "model_module_version": "1.2.0",
          "state": {
            "_model_module": "@jupyter-widgets/base",
            "_model_module_version": "1.2.0",
            "_model_name": "LayoutModel",
            "_view_count": null,
            "_view_module": "@jupyter-widgets/base",
            "_view_module_version": "1.2.0",
            "_view_name": "LayoutView",
            "align_content": null,
            "align_items": null,
            "align_self": null,
            "border": null,
            "bottom": null,
            "display": null,
            "flex": null,
            "flex_flow": null,
            "grid_area": null,
            "grid_auto_columns": null,
            "grid_auto_flow": null,
            "grid_auto_rows": null,
            "grid_column": null,
            "grid_gap": null,
            "grid_row": null,
            "grid_template_areas": null,
            "grid_template_columns": null,
            "grid_template_rows": null,
            "height": null,
            "justify_content": null,
            "justify_items": null,
            "left": null,
            "margin": null,
            "max_height": null,
            "max_width": null,
            "min_height": null,
            "min_width": null,
            "object_fit": null,
            "object_position": null,
            "order": null,
            "overflow": null,
            "overflow_x": null,
            "overflow_y": null,
            "padding": null,
            "right": null,
            "top": null,
            "visibility": null,
            "width": null
          }
        },
        "712c8f209aab4772b4bd81bc1fcb8089": {
          "model_module": "@jupyter-widgets/controls",
          "model_name": "ProgressStyleModel",
          "model_module_version": "1.5.0",
          "state": {
            "_model_module": "@jupyter-widgets/controls",
            "_model_module_version": "1.5.0",
            "_model_name": "ProgressStyleModel",
            "_view_count": null,
            "_view_module": "@jupyter-widgets/base",
            "_view_module_version": "1.2.0",
            "_view_name": "StyleView",
            "bar_color": null,
            "description_width": ""
          }
        },
        "6c469dc43a87465ca2475582119dbc92": {
          "model_module": "@jupyter-widgets/base",
          "model_name": "LayoutModel",
          "model_module_version": "1.2.0",
          "state": {
            "_model_module": "@jupyter-widgets/base",
            "_model_module_version": "1.2.0",
            "_model_name": "LayoutModel",
            "_view_count": null,
            "_view_module": "@jupyter-widgets/base",
            "_view_module_version": "1.2.0",
            "_view_name": "LayoutView",
            "align_content": null,
            "align_items": null,
            "align_self": null,
            "border": null,
            "bottom": null,
            "display": null,
            "flex": null,
            "flex_flow": null,
            "grid_area": null,
            "grid_auto_columns": null,
            "grid_auto_flow": null,
            "grid_auto_rows": null,
            "grid_column": null,
            "grid_gap": null,
            "grid_row": null,
            "grid_template_areas": null,
            "grid_template_columns": null,
            "grid_template_rows": null,
            "height": null,
            "justify_content": null,
            "justify_items": null,
            "left": null,
            "margin": null,
            "max_height": null,
            "max_width": null,
            "min_height": null,
            "min_width": null,
            "object_fit": null,
            "object_position": null,
            "order": null,
            "overflow": null,
            "overflow_x": null,
            "overflow_y": null,
            "padding": null,
            "right": null,
            "top": null,
            "visibility": null,
            "width": null
          }
        },
        "c2d3b02a432b4dbdbe6c65ce8befdc0b": {
          "model_module": "@jupyter-widgets/controls",
          "model_name": "DescriptionStyleModel",
          "model_module_version": "1.5.0",
          "state": {
            "_model_module": "@jupyter-widgets/controls",
            "_model_module_version": "1.5.0",
            "_model_name": "DescriptionStyleModel",
            "_view_count": null,
            "_view_module": "@jupyter-widgets/base",
            "_view_module_version": "1.2.0",
            "_view_name": "StyleView",
            "description_width": ""
          }
        }
      }
    }
  },
  "cells": [
    {
      "cell_type": "code",
      "execution_count": null,
      "metadata": {
        "id": "z2d0Kf7hLzfp"
      },
      "outputs": [],
      "source": [
        "import numpy as np\n",
        "import pandas as pd\n",
        "import matplotlib.pyplot as plt\n",
        "from dataclasses import dataclass"
      ]
    },
    {
      "cell_type": "code",
      "source": [
        "from sklearn.datasets import fetch_openml\n",
        "\n",
        "co2 = fetch_openml(data_id=41187, as_frame=True, parser='auto')\n",
        "co2_data = co2.frame\n",
        "co2_data[\"date\"] = pd.to_datetime(co2_data[[\"year\", \"month\", \"day\"]])\n",
        "co2_data = co2_data.sort_values(by=\"date\")\n",
        "co2_data = co2_data[[\"date\", \"co2\"]].set_index(\"date\")\n",
        "\n",
        "co2_data=co2_data.squeeze()\n",
        "train, test = co2_data[:int(0.7*len(co2_data))], co2_data[int(0.7*len(co2_data)):]\n",
        "print(train.shape,test.shape,co2_data.shape)"
      ],
      "metadata": {
        "colab": {
          "base_uri": "https://localhost:8080/"
        },
        "id": "nGQQ1pvtL8KJ",
        "outputId": "fdaf6294-ffb0-4bb2-e875-e4492f2f83c6"
      },
      "execution_count": null,
      "outputs": [
        {
          "output_type": "stream",
          "name": "stdout",
          "text": [
            "(1557,) (668,) (2225,)\n"
          ]
        }
      ]
    },
    {
      "cell_type": "code",
      "source": [
        "if not isinstance(train, list):\n",
        "    train = [train]\n",
        "    test = [test]\n",
        "n_val = len(train)"
      ],
      "metadata": {
        "id": "Mtp6bJhnL-ZH"
      },
      "execution_count": null,
      "outputs": []
    },
    {
      "cell_type": "code",
      "source": [
        "for i in range(len(train)):\n",
        "    if not isinstance(train[i], pd.Series):\n",
        "        train[i] = pd.Series(train[i], index=pd.RangeIndex(len(train[i])))\n",
        "        test[i] = pd.Series(test[i], index=pd.RangeIndex(len(train[i]), len(test[i])+len(train[i])))"
      ],
      "metadata": {
        "id": "PJA9VSVNME4o"
      },
      "execution_count": null,
      "outputs": []
    },
    {
      "cell_type": "code",
      "source": [
        "@dataclass\n",
        "class Scaler:\n",
        "    transform: callable = lambda x: x\n",
        "    inv_transform: callable = lambda x: x\n",
        "\n",
        "def get_scaler(history, alpha=0.95, beta=0.3, basic=False):\n",
        "    history = history[~np.isnan(history)]\n",
        "    if basic:\n",
        "        q = np.maximum(np.quantile(np.abs(history), alpha),.01)\n",
        "        def transform(x):\n",
        "            return x / q\n",
        "        def inv_transform(x):\n",
        "            return x * q\n",
        "    else:\n",
        "        min_ = np.min(history) - beta*(np.max(history)-np.min(history))\n",
        "        q = np.quantile(history-min_, alpha)\n",
        "        if q == 0:\n",
        "            q = 1\n",
        "        def transform(x):\n",
        "            return (x - min_) / q\n",
        "        def inv_transform(x):\n",
        "            return x * q + min_\n",
        "    return Scaler(transform=transform, inv_transform=inv_transform)"
      ],
      "metadata": {
        "id": "1KYlwBJxMHmH"
      },
      "execution_count": null,
      "outputs": []
    },
    {
      "cell_type": "code",
      "source": [
        "alpha=0.95\n",
        "beta=0.3\n",
        "basic=False\n",
        "scalers = [get_scaler(train[i].values, alpha=alpha, beta=beta, basic=basic) for i in range(len(train))]"
      ],
      "metadata": {
        "id": "1PmaOeUQMOMf"
      },
      "execution_count": null,
      "outputs": []
    },
    {
      "cell_type": "code",
      "source": [
        "input_arrs = [train[i].values for i in range(len(train))]\n",
        "transformed_input_arrs = np.array([scaler.transform(input_array) for input_array, scaler in zip(input_arrs, scalers)])"
      ],
      "metadata": {
        "id": "KTe3yc2lMY5P"
      },
      "execution_count": null,
      "outputs": []
    },
    {
      "cell_type": "code",
      "source": [
        "transformed_input_arrs"
      ],
      "metadata": {
        "colab": {
          "base_uri": "https://localhost:8080/"
        },
        "id": "tt1qf_HTMcTk",
        "outputId": "af73ee9b-5824-4af3-db26-9741f66a90fa"
      },
      "execution_count": null,
      "outputs": [
        {
          "output_type": "execute_result",
          "data": {
            "text/plain": [
              "array([[0.31754135, 0.34204615, 0.34817235, ..., 1.07923218, 1.07310598,\n",
              "        1.07923218]])"
            ]
          },
          "metadata": {},
          "execution_count": 8
        }
      ]
    },
    {
      "cell_type": "code",
      "source": [
        "def convert_array_to_string(arr):\n",
        "    rounded_values = [round(val * 1000) for val in arr]\n",
        "    str_values = [str(val) for val in rounded_values]\n",
        "    result_string = \",\".join(str_values)\n",
        "    return result_string"
      ],
      "metadata": {
        "id": "tAcMfciZMeoy"
      },
      "execution_count": null,
      "outputs": []
    },
    {
      "cell_type": "code",
      "source": [
        "transformed_input_arrs[0][0]"
      ],
      "metadata": {
        "colab": {
          "base_uri": "https://localhost:8080/"
        },
        "id": "4JqzPMAONU24",
        "outputId": "82542a3d-95ca-4f91-a485-140aa77b99a9"
      },
      "execution_count": null,
      "outputs": [
        {
          "output_type": "execute_result",
          "data": {
            "text/plain": [
              "0.31754135184807064"
            ]
          },
          "metadata": {},
          "execution_count": 10
        }
      ]
    },
    {
      "cell_type": "code",
      "source": [
        "input_str = convert_array_to_string(transformed_input_arrs[0])"
      ],
      "metadata": {
        "id": "eRALSJ4xNLJW"
      },
      "execution_count": null,
      "outputs": []
    },
    {
      "cell_type": "code",
      "source": [
        "input_str"
      ],
      "metadata": {
        "colab": {
          "base_uri": "https://localhost:8080/",
          "height": 125
        },
        "id": "3dz3HrtSNZu6",
        "outputId": "de58e24a-4196-4a0f-bb30-e67b5e0867dc"
      },
      "execution_count": null,
      "outputs": [
        {
          "output_type": "execute_result",
          "data": {
            "text/plain": [
              "'318,342,348,346,324,334,346,354,311,311,303,305,307,297,295,277,264,254,258,264,275,285,283,289,299,299,305,307,311,303,334,328,328,332,330,330,350,338,348,362,360,371,356,365,367,358,352,350,332,332,324,318,307,293,295,277,283,273,264,264,254,256,262,262,277,283,291,299,297,295,307,311,309,309,324,330,326,328,328,334,344,336,334,350,356,350,369,383,377,377,391,395,393,397,397,385,397,385,377,358,369,365,354,342,328,330,297,289,289,285,279,260,266,260,273,279,279,285,297,297,303,311,315,320,324,328,330,336,336,336,336,350,354,356,356,367,375,371,385,387,375,391,389,409,405,409,403,397,397,389,385,381,377,365,338,354,354,342,330,299,299,293,285,295,307,293,303,303,309,311,309,320,326,326,336,334,338,344,354,358,356,350,356,362,375,383,381,385,395,391,401,401,418,411,403,414,411,418,420,416,414,407,399,401,399,395,377,371,369,340,344,328,309,313,297,303,309,309,313,324,334,336,338,342,348,358,367,371,375,373,371,375,383,383,391,393,403,401,403,416,438,436,436,442,442,444,438,434,414,405,399,393,387,377,369,360,350,338,324,332,313,315,313,320,307,318,322,328,332,338,346,356,360,367,371,377,385,393,438,438,428,420,395,401,397,379,369,360,358,344,326,305,336,334,326,332,336,348,350,348,346,358,365,367,375,375,377,379,379,391,399,401,399,411,414,418,416,405,426,436,442,440,434,446,442,436,430,442,434,432,432,436,436,434,432,405,385,385,356,373,371,362,356,360,332,328,340,352,346,348,362,381,375,379,377,383,383,391,389,405,409,418,420,422,432,430,434,440,440,448,454,469,471,475,477,469,479,481,473,485,479,475,473,465,454,456,424,414,379,389,395,360,365,362,354,354,360,369,362,387,397,401,414,414,420,424,424,436,456,440,442,454,450,456,450,465,463,460,483,487,491,501,503,493,499,497,497,491,465,469,454,454,446,446,438,430,426,405,397,397,385,383,377,373,373,393,385,393,397,403,416,428,426,434,442,436,444,446,448,448,454,450,460,467,460,460,475,475,483,493,493,499,495,507,512,499,509,516,512,514,509,497,491,493,481,477,467,446,442,438,432,426,405,420,391,393,407,407,401,395,411,414,426,432,438,446,456,465,460,465,479,485,481,481,477,485,495,501,509,514,518,516,524,542,530,530,550,556,536,538,548,530,534,534,526,522,520,514,507,489,489,460,448,460,442,452,454,436,428,434,438,436,442,450,452,460,469,477,477,483,489,493,507,499,495,509,514,520,526,522,536,536,550,538,565,556,556,571,559,550,561,567,559,550,556,554,544,544,524,524,512,503,503,495,495,465,456,469,460,460,463,469,456,458,460,471,473,483,493,493,499,503,509,514,516,518,534,532,530,528,534,540,542,546,540,548,548,542,554,571,565,581,585,579,577,571,577,563,571,559,556,550,524,534,522,512,505,479,471,469,463,465,465,456,469,471,487,485,489,499,509,505,518,524,526,532,532,532,532,544,548,559,556,548,550,542,554,573,579,589,597,603,601,601,595,603,605,595,583,581,571,573,567,554,563,550,538,532,530,499,507,514,495,483,483,495,509,501,516,526,522,528,538,538,542,552,559,565,569,569,573,577,583,591,593,595,599,603,612,618,614,626,624,640,644,646,648,654,652,646,652,642,634,630,632,622,601,603,601,591,587,571,569,552,556,542,532,540,548,548,542,550,561,565,571,581,575,573,565,575,579,585,589,597,612,618,614,614,616,626,644,642,632,650,644,661,665,661,663,667,659,661,642,642,646,636,636,626,610,622,601,599,585,579,563,561,546,538,546,546,540,550,554,559,561,577,573,575,591,595,597,595,599,597,605,624,624,630,622,636,638,634,640,646,652,663,673,673,665,681,681,677,677,685,679,669,671,665,657,642,622,632,618,616,608,587,577,589,571,561,565,561,561,571,577,587,585,583,591,603,608,612,624,626,632,632,636,638,646,644,652,667,650,659,675,665,689,697,687,691,693,697,689,695,712,699,689,695,689,675,671,659,650,644,636,614,614,601,595,601,587,569,577,581,593,583,581,597,610,612,616,624,628,640,646,652,650,665,667,667,671,669,671,675,685,695,706,703,714,722,724,726,738,740,732,740,738,732,730,726,724,714,706,706,695,677,663,661,659,659,644,626,644,620,610,620,632,632,636,644,642,652,659,667,673,679,687,695,687,695,712,722,703,706,716,718,728,726,740,750,744,763,763,753,765,765,767,761,763,773,769,761,750,757,738,738,722,716,706,699,691,689,679,659,644,648,657,644,650,663,665,673,679,679,687,693,699,706,706,710,710,722,740,742,742,734,738,738,746,759,753,785,781,767,777,789,797,791,781,802,797,804,795,783,783,785,769,761,750,740,744,734,726,693,691,683,687,667,685,685,681,677,685,697,699,714,716,722,734,738,740,753,757,753,771,773,765,767,777,769,791,795,806,816,826,814,824,820,826,836,832,832,824,840,832,832,822,814,814,799,775,783,763,759,759,759,744,736,718,708,724,720,720,726,732,736,742,746,750,753,759,767,771,779,783,787,791,791,795,816,806,810,828,820,826,842,848,855,855,861,853,865,867,863,861,861,859,857,842,838,826,822,799,810,795,783,773,755,759,748,744,738,722,730,736,746,748,755,761,767,775,791,789,793,797,810,810,812,820,828,830,844,828,828,848,859,859,861,863,865,873,877,891,883,879,891,889,889,875,877,875,865,857,846,846,842,832,816,806,799,771,781,777,761,742,750,765,757,763,779,773,789,799,802,802,814,820,822,824,834,836,830,840,846,861,857,863,853,857,887,883,887,904,908,914,916,916,922,924,922,920,920,908,906,902,897,881,879,859,867,840,848,842,804,804,802,804,802,799,808,810,812,822,826,828,840,842,863,873,879,875,881,875,877,889,893,897,893,900,904,906,916,920,957,957,963,955,949,949,949,944,934,932,924,916,912,895,887,889,869,846,838,818,832,832,822,828,832,844,838,846,859,869,881,879,885,891,897,897,902,908,908,908,926,918,924,934,942,951,959,963,973,969,969,979,985,985,996,991,971,989,977,973,967,957,946,944,936,922,902,897,893,881,891,873,855,848,855,857,869,871,873,881,891,900,914,914,920,910,934,936,928,932,936,932,944,951,953,949,940,953,991,985,993,998,996,1014,1008,1012,1014,1012,1012,1004,1000,998,987,981,963,961,957,940,932,918,920,912,908,914,895,897,885,889,885,897,910,914,920,922,936,946,942,946,949,961,975,973,967,969,967,973,979,998,985,993,1004,1014,1026,1014,1032,1036,1038,1051,1045,1049,1045,1042,1032,1030,1028,1004,1006,985,1000,989,971,981,969,942,949,940,932,924,922,934,938,944,946,955,961,971,983,981,985,991,993,1004,1014,1014,1024,1034,1047,1036,1040,1061,1067,1047,1045,1055,1073,1081,1073,1091,1096,1085,1098,1102,1096,1094,1096,1083,1073,1071,1061,1063,1049,1032,1028,1016,1018,1002,996,983,987,971,985,985,981,998,993,1004,1006,1012,1018,1020,1030,1042,1036,1059,1065,1069,1061,1071,1067,1063,1075,1079,1073,1079'"
            ],
            "application/vnd.google.colaboratory.intrinsic+json": {
              "type": "string"
            }
          },
          "metadata": {},
          "execution_count": 12
        }
      ]
    },
    {
      "cell_type": "code",
      "source": [
        "!pip install transformers bitsandbytes>=0.39.0 -q\n",
        "!pip install accelerate"
      ],
      "metadata": {
        "colab": {
          "base_uri": "https://localhost:8080/"
        },
        "id": "rvNewy6rNppH",
        "outputId": "1241a920-10eb-464c-e6c7-5db9b74520ad"
      },
      "execution_count": null,
      "outputs": [
        {
          "output_type": "stream",
          "name": "stdout",
          "text": [
            "Collecting accelerate\n",
            "  Downloading accelerate-0.26.1-py3-none-any.whl (270 kB)\n",
            "\u001b[2K     \u001b[90m━━━━━━━━━━━━━━━━━━━━━━━━━━━━━━━━━━━━━━━━\u001b[0m \u001b[32m270.9/270.9 kB\u001b[0m \u001b[31m5.4 MB/s\u001b[0m eta \u001b[36m0:00:00\u001b[0m\n",
            "\u001b[?25hRequirement already satisfied: numpy>=1.17 in /usr/local/lib/python3.10/dist-packages (from accelerate) (1.23.5)\n",
            "Requirement already satisfied: packaging>=20.0 in /usr/local/lib/python3.10/dist-packages (from accelerate) (23.2)\n",
            "Requirement already satisfied: psutil in /usr/local/lib/python3.10/dist-packages (from accelerate) (5.9.5)\n",
            "Requirement already satisfied: pyyaml in /usr/local/lib/python3.10/dist-packages (from accelerate) (6.0.1)\n",
            "Requirement already satisfied: torch>=1.10.0 in /usr/local/lib/python3.10/dist-packages (from accelerate) (2.1.0+cu121)\n",
            "Requirement already satisfied: huggingface-hub in /usr/local/lib/python3.10/dist-packages (from accelerate) (0.20.3)\n",
            "Requirement already satisfied: safetensors>=0.3.1 in /usr/local/lib/python3.10/dist-packages (from accelerate) (0.4.2)\n",
            "Requirement already satisfied: filelock in /usr/local/lib/python3.10/dist-packages (from torch>=1.10.0->accelerate) (3.13.1)\n",
            "Requirement already satisfied: typing-extensions in /usr/local/lib/python3.10/dist-packages (from torch>=1.10.0->accelerate) (4.5.0)\n",
            "Requirement already satisfied: sympy in /usr/local/lib/python3.10/dist-packages (from torch>=1.10.0->accelerate) (1.12)\n",
            "Requirement already satisfied: networkx in /usr/local/lib/python3.10/dist-packages (from torch>=1.10.0->accelerate) (3.2.1)\n",
            "Requirement already satisfied: jinja2 in /usr/local/lib/python3.10/dist-packages (from torch>=1.10.0->accelerate) (3.1.3)\n",
            "Requirement already satisfied: fsspec in /usr/local/lib/python3.10/dist-packages (from torch>=1.10.0->accelerate) (2023.6.0)\n",
            "Requirement already satisfied: triton==2.1.0 in /usr/local/lib/python3.10/dist-packages (from torch>=1.10.0->accelerate) (2.1.0)\n",
            "Requirement already satisfied: requests in /usr/local/lib/python3.10/dist-packages (from huggingface-hub->accelerate) (2.31.0)\n",
            "Requirement already satisfied: tqdm>=4.42.1 in /usr/local/lib/python3.10/dist-packages (from huggingface-hub->accelerate) (4.66.1)\n",
            "Requirement already satisfied: MarkupSafe>=2.0 in /usr/local/lib/python3.10/dist-packages (from jinja2->torch>=1.10.0->accelerate) (2.1.4)\n",
            "Requirement already satisfied: charset-normalizer<4,>=2 in /usr/local/lib/python3.10/dist-packages (from requests->huggingface-hub->accelerate) (3.3.2)\n",
            "Requirement already satisfied: idna<4,>=2.5 in /usr/local/lib/python3.10/dist-packages (from requests->huggingface-hub->accelerate) (3.6)\n",
            "Requirement already satisfied: urllib3<3,>=1.21.1 in /usr/local/lib/python3.10/dist-packages (from requests->huggingface-hub->accelerate) (2.0.7)\n",
            "Requirement already satisfied: certifi>=2017.4.17 in /usr/local/lib/python3.10/dist-packages (from requests->huggingface-hub->accelerate) (2023.11.17)\n",
            "Requirement already satisfied: mpmath>=0.19 in /usr/local/lib/python3.10/dist-packages (from sympy->torch>=1.10.0->accelerate) (1.3.0)\n",
            "Installing collected packages: accelerate\n",
            "Successfully installed accelerate-0.26.1\n"
          ]
        }
      ]
    },
    {
      "cell_type": "code",
      "source": [
        "from transformers import AutoModelForCausalLM, AutoTokenizer\n",
        "model = AutoModelForCausalLM.from_pretrained(\n",
        "    \"mistralai/Mistral-7B-v0.1\", device_map=\"auto\", load_in_4bit=True\n",
        ")\n",
        "tokenizer = AutoTokenizer.from_pretrained(\"mistralai/Mistral-7B-v0.1\", padding_side=\"left\")"
      ],
      "metadata": {
        "colab": {
          "base_uri": "https://localhost:8080/",
          "height": 272,
          "referenced_widgets": [
            "49d59c3f5a1144e3a61a1e325d437e7f",
            "47066a3fce254315bfd925c7fff40f95",
            "a4626acb28bc4b4c8f0f663122d77073",
            "3158f830205c4e36a296dce7bf2b0d39",
            "78bd07fce26640068eef8c72495ad92c",
            "c55e19a5954d41f8a98aedfd2a013770",
            "b4d1c90b580b47d8b15db4e82558adea",
            "279a300f51ce46e78e341d529df24c84",
            "5c1606e0c8d745b5855e90493f637e03",
            "ea7c099a0ab546b7af83eb7709a2f8d8",
            "3134a727af2b4e349f3bcd1109eb20ad",
            "15a79b4902d840328d43960746f43b2f",
            "a278e3e4a0d24036a19d32f9a7138ef2",
            "47ae6278aff2448696e199f9d07a828f",
            "4b5f3731e8d84215aa388210a25ceb91",
            "d3a0912be7934ea38c04f070799da5f4",
            "33a359be00e746f98ff4525d3eb5bd16",
            "dd702497dcdb412cbba66cfb24d994f0",
            "620fce8d06bc4d88ac3ae1440139909d",
            "2ebf3a3a40664137bff06514f7860622",
            "a83fbf0074bb449db79654a33215ac51",
            "b5de764d9bdb48d2aeeec822fb5d1634",
            "ec6f3b325fdc4b9386e9aafccb62d0df",
            "ec67cf28a89843dcaf602af312721743",
            "90ff22a34d0643228ac2c057772d9098",
            "fa214462bb704de09bb243433157c9c9",
            "6712088ca2eb4a1eb45d8a207433ffd8",
            "a29cddcac80e4fde9bef340e7671152a",
            "f7b644662ec0416ba0a1289fa996afa4",
            "f1cd43a5131647bdb5889a02d86a75dd",
            "a838c23e65d54f149c10a07bb72e4d33",
            "1f8fd4ce593c45d68fc327623958dcc8",
            "ebaf9c9cefeb4599b5b01aca7128508f",
            "251eb7d362144c71bf96ef4dd7b4adce",
            "2f2c231f1e8c4056ab5a2bbf8f970cda",
            "86dc6ab279764f5ba604b4141f4e303f",
            "99c3747e457349bcb2c94538557c37cf",
            "cf5def907f7b49ada2d76306c7341c34",
            "450521d89e2b45e9aeea134060e118c8",
            "41692c4507f64bac8aba0df7c8058371",
            "59c28d67cc744f23a1f7d8d72c51fac5",
            "712c8f209aab4772b4bd81bc1fcb8089",
            "6c469dc43a87465ca2475582119dbc92",
            "c2d3b02a432b4dbdbe6c65ce8befdc0b"
          ]
        },
        "id": "-EETv30WNbGC",
        "outputId": "e2c2cfb1-0f8a-40fd-9c64-67c2bd489517"
      },
      "execution_count": null,
      "outputs": [
        {
          "output_type": "stream",
          "name": "stderr",
          "text": [
            "/usr/local/lib/python3.10/dist-packages/huggingface_hub/utils/_token.py:88: UserWarning: \n",
            "The secret `HF_TOKEN` does not exist in your Colab secrets.\n",
            "To authenticate with the Hugging Face Hub, create a token in your settings tab (https://huggingface.co/settings/tokens), set it as secret in your Google Colab and restart your session.\n",
            "You will be able to reuse this secret in all of your notebooks.\n",
            "Please note that authentication is recommended but still optional to access public models or datasets.\n",
            "  warnings.warn(\n"
          ]
        },
        {
          "output_type": "display_data",
          "data": {
            "text/plain": [
              "config.json:   0%|          | 0.00/571 [00:00<?, ?B/s]"
            ],
            "application/vnd.jupyter.widget-view+json": {
              "version_major": 2,
              "version_minor": 0,
              "model_id": "49d59c3f5a1144e3a61a1e325d437e7f"
            }
          },
          "metadata": {}
        },
        {
          "output_type": "display_data",
          "data": {
            "text/plain": [
              "model.safetensors.index.json:   0%|          | 0.00/25.1k [00:00<?, ?B/s]"
            ],
            "application/vnd.jupyter.widget-view+json": {
              "version_major": 2,
              "version_minor": 0,
              "model_id": "15a79b4902d840328d43960746f43b2f"
            }
          },
          "metadata": {}
        },
        {
          "output_type": "display_data",
          "data": {
            "text/plain": [
              "Downloading shards:   0%|          | 0/2 [00:00<?, ?it/s]"
            ],
            "application/vnd.jupyter.widget-view+json": {
              "version_major": 2,
              "version_minor": 0,
              "model_id": "ec6f3b325fdc4b9386e9aafccb62d0df"
            }
          },
          "metadata": {}
        },
        {
          "output_type": "display_data",
          "data": {
            "text/plain": [
              "model-00001-of-00002.safetensors:   0%|          | 0.00/9.94G [00:00<?, ?B/s]"
            ],
            "application/vnd.jupyter.widget-view+json": {
              "version_major": 2,
              "version_minor": 0,
              "model_id": "251eb7d362144c71bf96ef4dd7b4adce"
            }
          },
          "metadata": {}
        }
      ]
    },
    {
      "cell_type": "code",
      "source": [
        "import torch\n",
        "torch.cuda.empty_cache()"
      ],
      "metadata": {
        "id": "u9opp4qvNi-e"
      },
      "execution_count": null,
      "outputs": []
    },
    {
      "cell_type": "code",
      "source": [
        "hyperparameters = {\n",
        "    'num_beams': 5,                    # Number of beams for beam search\n",
        "    'temperature': 0.8,                # Temperature for controlling randomness in sampling\n",
        "    'top_k': 50,                       # Number of highest probability tokens to keep for top-k sampling\n",
        "    'top_p': 0.9,                      # Probability threshold for nucleus sampling\n",
        "    'no_repeat_ngram_size': 2,        # Avoid repeating n-grams of this size in the generated sequence\n",
        "    'repetition_penalty': 1.4,         # Penalty for repeated tokens in the generated sequence\n",
        "    'output_scores': False,            # Whether or not to return prediction scores\n",
        "    'output_attentions': False,        # Whether or not to return attention tensors\n",
        "    'output_hidden_states': False,     # Whether or not to return hidden states\n",
        "    'return_dict_in_generate': False,  # Whether to return a ModelOutput instead of a plain tuple\n",
        "    'use_cache': True,                 # Whether or not to use past key/values attentions for decoding\n",
        "}"
      ],
      "metadata": {
        "id": "2DeTj6uGqtdp"
      },
      "execution_count": null,
      "outputs": []
    },
    {
      "cell_type": "code",
      "source": [
        "good_tokens_str = list(\"0123456789,\")\n",
        "good_tokens = [tokenizer.convert_tokens_to_ids(token) for token in good_tokens_str]\n",
        "bad_tokens = [i for i in range(len(tokenizer)) if i not in good_tokens]"
      ],
      "metadata": {
        "id": "xvmPuGIDuDUV"
      },
      "execution_count": null,
      "outputs": []
    },
    {
      "cell_type": "code",
      "source": [
        "from tokenizers import Tokenizer\n",
        "from tokenizers.tools import EncodingVisualizer\n",
        "\n",
        "tk = Tokenizer.from_pretrained(\"mistralai/Mistral-7B-v0.1\")\n",
        "visualizer = EncodingVisualizer(tk)\n",
        "\n",
        "text = \"123, 124, 125\"\n",
        "visualizer(text)"
      ],
      "metadata": {
        "id": "bBgeST87dFGi"
      },
      "execution_count": null,
      "outputs": []
    },
    {
      "cell_type": "code",
      "source": [
        "batch_size = 50\n",
        "from tqdm import tqdm\n",
        "for i in tqdm(range(4000, len(input_str) - batch_size, batch_size)):\n",
        "  batch_str = input_str[i-4000: i]\n",
        "  model_inputs = tokenizer(batch_str, return_tensors='pt').to('cuda')\n",
        "  generated_ids = model.generate(**model_inputs, do_sample=True, max_new_tokens=batch_size, temperature=0.8, repetition_penalty=2.0, bad_words_ids=[[t] for t in bad_tokens])\n",
        "  output = tokenizer.batch_decode(generated_ids, skip_special_tokens=True)[0]\n",
        "  print(f\"Batch: {batch_str}\")\n",
        "  print(f\"Actual: {input_str[i: i+batch_size]}\")\n",
        "  print(f\"Total: {input_str}\")\n",
        "  print(f\"Pred: {output[-batch_size:]}\")"
      ],
      "metadata": {
        "id": "AoYy_cn2NkcR"
      },
      "execution_count": null,
      "outputs": []
    },
    {
      "cell_type": "code",
      "source": [
        "inp = input_str[-4000:]\n",
        "model_inputs = tokenizer(inp, return_tensors='pt').to('cuda')\n",
        "generated_ids = model.generate(**model_inputs, max_new_tokens=1000, min_new_tokens=1000,temperature=0.9, bad_words_ids=[[t] for t in bad_tokens], top_k=5, repetition_penalty=2.0)\n",
        "output = tokenizer.batch_decode(generated_ids, skip_special_tokens=True)[0]"
      ],
      "metadata": {
        "id": "visuLYE1AJFB"
      },
      "execution_count": null,
      "outputs": []
    },
    {
      "cell_type": "code",
      "source": [
        "DEFAULT_EOS_TOKEN = \"</s>\"\n",
        "DEFAULT_BOS_TOKEN = \"<s>\"\n",
        "DEFAULT_UNK_TOKEN = \"<unk>\"\n",
        "\n",
        "special_tokens_dict = dict()\n",
        "if tokenizer.eos_token is None:\n",
        "    special_tokens_dict[\"eos_token\"] = DEFAULT_EOS_TOKEN\n",
        "if tokenizer.bos_token is None:\n",
        "    special_tokens_dict[\"bos_token\"] = DEFAULT_BOS_TOKEN\n",
        "if tokenizer.unk_token is None:\n",
        "    special_tokens_dict[\"unk_token\"] = DEFAULT_UNK_TOKEN\n",
        "\n",
        "tokenizer.add_special_tokens(special_tokens_dict)\n",
        "tokenizer.pad_token = tokenizer.eos_token"
      ],
      "metadata": {
        "id": "1HTA31ay87ly"
      },
      "execution_count": null,
      "outputs": []
    },
    {
      "cell_type": "code",
      "source": [
        "inp = input_str[-4000:]\n",
        "output_str = input_str\n",
        "test_len = 2000\n",
        "batch_size = 100\n",
        "for i in tqdm(range(test_len//batch_size)):\n",
        "  model_inputs = tokenizer(inp, return_tensors='pt').to('cuda')\n",
        "  generated_ids = model.generate(**model_inputs, do_sample=True, max_new_tokens=batch_size, min_new_tokens=batch_size,temperature=0.9, bad_words_ids=[[t] for t in bad_tokens], top_k=5)\n",
        "  output = tokenizer.batch_decode(generated_ids, skip_special_tokens=True)[0]\n",
        "  output_str += output[-100:]\n",
        "  inp = output_str[-4000:]"
      ],
      "metadata": {
        "id": "goAOxuX_Nt-b"
      },
      "execution_count": null,
      "outputs": []
    },
    {
      "cell_type": "code",
      "source": [
        "output_str = output"
      ],
      "metadata": {
        "id": "YiLoJiS4A45O"
      },
      "execution_count": null,
      "outputs": []
    },
    {
      "cell_type": "code",
      "source": [
        "output_str"
      ],
      "metadata": {
        "id": "Qm4Kfus-BTFL"
      },
      "execution_count": null,
      "outputs": []
    },
    {
      "cell_type": "code",
      "source": [
        "def invert_string_to_array(string_values):\n",
        "    # Split the string into a list of strings\n",
        "    string_values = string_values.replace(\" \", \"\")\n",
        "    if string_values[-1] == ',':\n",
        "        string_values = string_values[:len(string_values) - 1]\n",
        "    str_values_list = string_values.split(',')\n",
        "\n",
        "    # Convert each non-empty string value back to a floating-point number\n",
        "    float_values = [float(val) if val.strip() != '' else 0.0 for val in str_values_list]\n",
        "\n",
        "    # Divide each value by 1000 to get the original values\n",
        "    original_values = [val / 1000 for val in float_values]\n",
        "\n",
        "    return original_values"
      ],
      "metadata": {
        "id": "afkEpA2GOWjQ"
      },
      "execution_count": null,
      "outputs": []
    },
    {
      "cell_type": "code",
      "source": [
        "output_arr = invert_string_to_array(output_str)"
      ],
      "metadata": {
        "id": "sGXC58xoOnpg"
      },
      "execution_count": null,
      "outputs": []
    },
    {
      "cell_type": "code",
      "source": [
        "output_arr = np.array(output_arr)"
      ],
      "metadata": {
        "id": "bQbfxuFJ3AuN"
      },
      "execution_count": null,
      "outputs": []
    },
    {
      "cell_type": "code",
      "source": [
        "transformed_output_arr = scalers[0].inv_transform(output_arr)"
      ],
      "metadata": {
        "id": "PRoKbSMvOrLo"
      },
      "execution_count": null,
      "outputs": []
    },
    {
      "cell_type": "code",
      "source": [
        "transformed_output_arr"
      ],
      "metadata": {
        "id": "AvdDwdlp2vhX"
      },
      "execution_count": null,
      "outputs": []
    },
    {
      "cell_type": "code",
      "source": [
        "import matplotlib.pyplot as plt\n",
        "\n",
        "plt.plot(transformed_output_arr)\n",
        "plt.axvline(x=1557, color='r', linestyle='--', label='train - test')\n",
        "plt.show()"
      ],
      "metadata": {
        "id": "EbNOIP9Q3Jkz"
      },
      "execution_count": null,
      "outputs": []
    },
    {
      "cell_type": "code",
      "source": [
        "for i in range(len(transformed_output_arr)):\n",
        "  if transformed_output_arr[i] > 1000:\n",
        "    transformed_output_arr[i] = 0"
      ],
      "metadata": {
        "id": "BorPAlmC3TKm"
      },
      "execution_count": null,
      "outputs": []
    },
    {
      "cell_type": "code",
      "source": [],
      "metadata": {
        "id": "UUpFV_QG-SG6"
      },
      "execution_count": null,
      "outputs": []
    }
  ]
}